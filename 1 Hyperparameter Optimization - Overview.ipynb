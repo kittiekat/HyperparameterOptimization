{
 "cells": [
  {
   "cell_type": "code",
   "execution_count": null,
   "id": "mounted-assault",
   "metadata": {},
   "outputs": [],
   "source": [
    "\"\"\" Hyperparameter Optimization \n",
    "- Grid Search: exhaustively considers all parameter combinations\n",
    "    Halving strategies exist\n",
    "    \n",
    "- Random Search: sample a given number of candidates from a parameter space with a specified distribution\n",
    "\n",
    "- Differential Evolution:\n",
    "    Documentation:\n",
    "    Library:\n",
    "    \n",
    "- DE from Scratch:\n",
    "\n",
    "- PSO\n",
    "    \n",
    "- Evolutionary Powell's Method:\n",
    "    Documentation: https://e2eml.school/evopowell.html\n",
    "    Library: https://gitlab.com/brohrer/ponderosa\n",
    "    \n",
    "    \n",
    "    \n",
    "Using accuracy is useless if unbalanced, need to add weights to imageprocess class if the data is not balanced\n",
    "Need to add function to HPO that will save DF to a csv, returns path of file\n",
    "\n",
    "Use Parallelization\n",
    "Use CV\n",
    "\"\"\""
   ]
  },
  {
   "cell_type": "code",
   "execution_count": null,
   "id": "electoral-conviction",
   "metadata": {},
   "outputs": [],
   "source": [
    "import os\n",
    "import numpy as np\n",
    "import random\n",
    "import pandas as pd\n",
    "import seaborn as sns\n",
    "\n",
    "# THIS IS NOT FINISHED\n",
    "def DE_optimizer(eval_fxn(), bounds, args=(), pop_size=10, max_iterations=5, F=.5, cr=.9, drop=.5 )\n",
    "\n",
    "    # define mutation operation\n",
    "    def mutate(x, F):\n",
    "        dim = len(x[0])\n",
    "        mutation = [x[1][i]-x[2][i] for i in range(dim)]\n",
    "        mutation = [mutation[i]*F for i in range(dim)]\n",
    "        mutation = [x[0][i]+ mutation[i] for i in range(dim)]\n",
    "        mutation = [int(mutation[i]) for i in range(dim)]\n",
    "        return mutation\n",
    "\n",
    "    # define boundary check operation\n",
    "    def clip_bounds(x, bounds):\n",
    "        clipped = [np.clip(x[i], 0 , bounds[i]) for i in range(len(bounds))]\n",
    "        return clipped\n",
    "\n",
    "    # define crossover operation creating solution vector by binomial crossover\n",
    "    def crossover(x, y, cr):\n",
    "        dim = len(x); p = np.random.uniform(size=dim)    \n",
    "        return [x[i] if p[i] < cr else y[i] for i in range(dim)]\n",
    "\n",
    "    def convert(x, key):\n",
    "        return [key[i][x[i]] for i in range(len(x))] \n",
    "    \n",
    "    # Generate and Evaluate Initial population of solutions\n",
    "    population = [random.choices(y[x], k=pop_size) for x in range(dim)] \n",
    "    population = list(map(list, zip(*population)))\n",
    "\n",
    "    # Evaluate generated solutions\n",
    "    for i in range(pop_size):\n",
    "        solution = convert(population[i],y_key)\n",
    "        model_params = Model_Params(solution)\n",
    "        model_weights[i], model_errors[i], history = fit_model(model_params, img_obj)\n",
    "\n",
    "        # Store the solution in the all_solutions dict\n",
    "        all_models[str(solution)] = history\n",
    "\n",
    "\n",
    "    # Drop the 5 worst performers from the population\n",
    "    lowest = np.array(model_errors).argsort()[:int(drop*pop_size)]\n",
    "    lowest = sorted(lowest, reverse=True)\n",
    "    population = [population.pop(x) for x in lowest]\n",
    "    model_errors = [model_errors.pop(x) for x in lowest]\n",
    "    model_weights = [model_weights.pop(x) for x in lowest]\n",
    "    pop_size = len(population)\n",
    "\n",
    "    print(population)\n",
    "    print(model_errors)\n",
    "    print(\"Min Error:\", min(model_errors))\n",
    "\n",
    "    # main processing loop\n",
    "    for g in range(max_gen):\n",
    "        for i in range(pop_size):  # For each solution in population\n",
    "\n",
    "            # Check if the solution has been evaluated\n",
    "            while True:\n",
    "                # Choose 3 solutions\n",
    "                indices = np.arange(pop_size)  # [0, 1, 2, . . ]\n",
    "                np.random.shuffle(indices)\n",
    "                abc = indices[:3].tolist()\n",
    "\n",
    "                # If current solution is in set, replace\n",
    "                if i in abc: abc[abc.index(i)]= indices[3]\n",
    "\n",
    "                # Selected population of 3 solutions\n",
    "                abc = [population[abc[x]] for x in range(3)] \n",
    "\n",
    "                # Mutate + Fix the solution\n",
    "                solution = mutate(abc, F)\n",
    "                solution = clip_bounds(solution, bounds)\n",
    "\n",
    "                # Crossover\n",
    "                solution = crossover(solution, population[i],cr)\n",
    "\n",
    "                # Check the solution is unique (this will not account for the solutions we already deleted... but it should)\n",
    "                if str(convert(solution,y_key)) not in all_models: break\n",
    "\n",
    "        # replace curr soln with new soln if new soln is better\n",
    "        converted_solution = convert(solution,y_key)\n",
    "        model_params = Model_Params(converted_solution)\n",
    "        new_weights, new_error, history = fit_model(model_params, img_obj)\n",
    "    \n",
    "        # Store the solution in the all_solutions dict\n",
    "        all_models[str(converted_solution)] = history\n",
    "\n",
    "        if new_error < model_errors[i]:\n",
    "            print('Solution Replaced')\n",
    "            population[i] = solution\n",
    "            model_errors[i] = new_error\n",
    "            model_weights[i] = new_weights\n",
    "            \n",
    "            \n",
    "\n",
    "        # after all popln items have been processed, \n",
    "        # find curr best soln\n",
    "        best_idx = np.argmin(popln_errors)\n",
    "        best_error = popln_errors[best_idx]\n",
    "        if g % 10 == 0:\n",
    "            print(\"Generation = %4d best error = %10.4f \\\n",
    "            best_soln = \" % (g, best_error), end=\"\")\n",
    "            print(population[best_idx])\n",
    "\n",
    "        # show final result\n",
    "        best_idx = np.argmin(popln_errors)\n",
    "        best_error = popln_errors[best_idx]\n",
    "        print(\"\\nFinal best error = %0.4f  best_soln = \" % \\\n",
    "        best_error, end=\"\")\n",
    "        print(population[best_idx])\n",
    "\n"
   ]
  },
  {
   "cell_type": "code",
   "execution_count": null,
   "id": "technical-disco",
   "metadata": {},
   "outputs": [],
   "source": []
  },
  {
   "cell_type": "markdown",
   "id": "regulated-occurrence",
   "metadata": {},
   "source": [
    "## Using  Grid Search for Hyperparameter Optimization"
   ]
  },
  {
   "cell_type": "code",
   "execution_count": null,
   "id": "improving-beaver",
   "metadata": {},
   "outputs": [],
   "source": []
  },
  {
   "cell_type": "markdown",
   "id": "informative-horizontal",
   "metadata": {},
   "source": [
    "## Using  Grid Search with Halving for Hyperparameter Optimization:"
   ]
  },
  {
   "cell_type": "code",
   "execution_count": null,
   "id": "foster-maryland",
   "metadata": {},
   "outputs": [],
   "source": []
  },
  {
   "cell_type": "markdown",
   "id": "rubber-toner",
   "metadata": {},
   "source": [
    "## Using Random Search for Hyperparameter Optimization"
   ]
  },
  {
   "cell_type": "code",
   "execution_count": null,
   "id": "stone-northern",
   "metadata": {},
   "outputs": [],
   "source": []
  },
  {
   "cell_type": "markdown",
   "id": "trying-basis",
   "metadata": {},
   "source": [
    "## Using Differential Evolution for Hyperparameter Optimization: SciPy Implementation"
   ]
  },
  {
   "cell_type": "code",
   "execution_count": null,
   "id": "portable-dispute",
   "metadata": {},
   "outputs": [],
   "source": [
    "print(\"\\nUsing Differential Evolution for Hyperparameter Optimization: SciPy Implementation\")\n",
    "\n",
    "# Solve for Optimal Parameters\n",
    "solution = sd.differential_evolution(hpo_model.evaluate_model, hpo_model.bounds, args=(weights),\n",
    "                                  strategy='best1bin', \n",
    "                                  maxiter=max_gen, popsize=pop_size, \n",
    "                                  mutation=(F, 1), recombination=cr )\n",
    "\n",
    "# Convert Optimal Parameters to English...\n",
    "solution=hpo_model.name_model(hpo_model.translate_floats(solution.x))\n",
    "best_accuracy = hpo_model.all_models[str(solution)].val_accuracy\n",
    "print(f'Optimal Parameters: {solution} \\nValuation Accuracy: {best_accuracy*100:.2f}%')\n",
    "\n",
    "# Print Metrics\n",
    "hpo_model.model_metrics()\n",
    "\n",
    "hpo_data['DE: SciPy'] = hpo_model.export_to_csv()\n"
   ]
  },
  {
   "cell_type": "markdown",
   "id": "capable-assault",
   "metadata": {},
   "source": [
    "## Using Differential Evolution for Hyperparameter Optimization: DE from Scratch"
   ]
  },
  {
   "cell_type": "code",
   "execution_count": null,
   "id": "rolled-category",
   "metadata": {},
   "outputs": [],
   "source": [
    "\n"
   ]
  },
  {
   "cell_type": "markdown",
   "id": "collectible-quarter",
   "metadata": {},
   "source": [
    "## Using Powell's Method for Hyperparameter Optimization\n"
   ]
  },
  {
   "cell_type": "code",
   "execution_count": null,
   "id": "overhead-howard",
   "metadata": {},
   "outputs": [],
   "source": []
  },
  {
   "cell_type": "markdown",
   "id": "optional-filter",
   "metadata": {},
   "source": [
    "## Method Comparison"
   ]
  },
  {
   "cell_type": "code",
   "execution_count": null,
   "id": "perceived-truck",
   "metadata": {},
   "outputs": [],
   "source": [
    "# Frequency Graphs\n",
    "op = [x for x in y if len(y[x])>1]\n",
    "\n",
    "# Frequency Graphs\n",
    "for i, col in enumerate(op):\n",
    "    plt.figure(i)\n",
    "    sns.countplot(x=col, data=df)\n",
    "\n",
    "# Violins\n",
    "for i, col in enumerate(op):\n",
    "    plt.figure(i+5)\n",
    "    sns.violinplot(x=col, y=\"val_accuracy\", data=df)"
   ]
  }
 ],
 "metadata": {
  "kernelspec": {
   "display_name": "Python 3",
   "language": "python",
   "name": "python3"
  },
  "language_info": {
   "codemirror_mode": {
    "name": "ipython",
    "version": 3
   },
   "file_extension": ".py",
   "mimetype": "text/x-python",
   "name": "python",
   "nbconvert_exporter": "python",
   "pygments_lexer": "ipython3",
   "version": "3.8.8"
  }
 },
 "nbformat": 4,
 "nbformat_minor": 5
}