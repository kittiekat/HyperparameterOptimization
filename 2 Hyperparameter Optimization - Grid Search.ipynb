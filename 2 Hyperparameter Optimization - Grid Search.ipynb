{
 "cells": [
  {
   "cell_type": "code",
   "execution_count": 2,
   "metadata": {
    "collapsed": true
   },
   "outputs": [
    {
     "name": "stdout",
     "output_type": "stream",
     "text": [
      "Processing Images...\n",
      "Found 2100 images belonging to 3 classes.\n",
      "Found 900 images belonging to 3 classes.\n",
      "There are 432 possible solutions\n",
      "[[0, 9], [0, 2], [0, 8], [0, 3]]\n"
     ]
    }
   ],
   "source": [
    "import itertools\n",
    "from hpo import HPO, ImgProcess\n",
    "import numpy as np\n",
    "np.random.seed(898)\n",
    "np.set_printoptions(precision=5, suppress=True)\n",
    "\n",
    "#np.random.seed(16)\n",
    "np.set_printoptions(precision=5, suppress=True)\n",
    "\n",
    "# Where to save the output\n",
    "tgt_dir = 'data/'\n",
    "hpo_data = {}\n",
    "\n",
    "# Import test images for training\n",
    "test_dir = \"images/Test/\"\n",
    "train_dir = \"images/Train/\"\n",
    "img_obj = ImgProcess(train_dir,test_dir)\n",
    "\n",
    "# Best Model\n",
    "best_loss = 999\n",
    "best_soln =[]\n",
    "\n",
    "# For MobileNet Architecture: Dropout, Alpha, Depth, Optimizer, LR\n",
    "\n",
    "# MobileNet Weights\n",
    "weights=['imagenet']\n",
    "\n",
    "# Parameter Space\n",
    "y = {'dropout': [.1,.2,.3,.4,.5,.6,.7,.8,.9],\n",
    "      'alpha': [1],\n",
    "      'depth_multiplier': [1],\n",
    "      'optimizer': ['Adam','RMSprop'],\n",
    "      'lr': [.005,.001,.0005,.0001,.00005,.00001,.000005,.000001],\n",
    "      'batch_size': [64],\n",
    "      'epochs': [20],\n",
    "      'trainable_layers':[13,19,25]\n",
    "     }\n",
    "\n",
    "# Initialize HPO Object\n",
    "hpo_model = HPO(img_obj, y)"
   ]
  },
  {
   "cell_type": "code",
   "execution_count": 5,
   "outputs": [
    {
     "name": "stdout",
     "output_type": "stream",
     "text": [
      "\n",
      "Using Grid Search for Hyperparameter Optimization\n",
      "432\n"
     ]
    }
   ],
   "source": [
    "print(\"\\nUsing Grid Search for Hyperparameter Optimization\")\n",
    "bounds = [list(np.arange(hpo_model.bounds[i][1])) for i in range(len(hpo_model.bounds))]\n",
    "solutions = list(itertools.product(*bounds))\n",
    "\n",
    "for solution in solutions:\n",
    "    loss = hpo_model.evaluate_model(solution,weights)\n",
    "    if loss < best_loss:\n",
    "        best_loss = loss\n",
    "        best_soln = solution\n",
    "\n",
    "# Convert Optimal Parameters to English...\n",
    "best_soln =hpo_model.name_model(hpo_model.translate_floats(best_soln))\n",
    "best_accuracy = hpo_model.all_models[str(best_soln)].val_accuracy\n",
    "print(f'Optimal Parameters: {best_soln} \\nValuation Accuracy: {best_accuracy*100:.2f}%')"
   ],
   "metadata": {
    "collapsed": false,
    "pycharm": {
     "name": "#%%\n"
    }
   }
  },
  {
   "cell_type": "code",
   "execution_count": null,
   "outputs": [],
   "source": [
    "file_name = hpo_model.export_to_csv(tgt_dir,'Grid Search')\n",
    "\n",
    "\n",
    "# Print Metrics\n",
    "hpo_model.model_metrics()\n"
   ],
   "metadata": {
    "collapsed": false,
    "pycharm": {
     "name": "#%%\n"
    }
   }
  }
 ],
 "metadata": {
  "kernelspec": {
   "display_name": "Python 3",
   "language": "python",
   "name": "python3"
  },
  "language_info": {
   "codemirror_mode": {
    "name": "ipython",
    "version": 2
   },
   "file_extension": ".py",
   "mimetype": "text/x-python",
   "name": "python",
   "nbconvert_exporter": "python",
   "pygments_lexer": "ipython2",
   "version": "2.7.6"
  }
 },
 "nbformat": 4,
 "nbformat_minor": 0
}