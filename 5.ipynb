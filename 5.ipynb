{
 "cells": [
  {
   "cell_type": "code",
   "execution_count": 34,
   "id": "exterior-equation",
   "metadata": {},
   "outputs": [
    {
     "name": "stdout",
     "output_type": "stream",
     "text": [
      "\n",
      "Using Differential Evolution for Hyperparameter Optimization\n",
      "\n",
      "Setting pop_size = 10, F = 0.5, cr = 0.90, max_gen = 50000 \n",
      "[8, 2, 2, 1, 7]\n"
     ]
    }
   ],
   "source": [
    "import os\n",
    "import numpy as np\n",
    "import random\n",
    "from keras.preprocessing.image import ImageDataGenerator\n",
    "from tensorflow import keras\n",
    "import pandas as pd\n",
    "import seaborn as sns\n",
    "\n",
    "# define mutation operation\n",
    "def mutate(x, F):\n",
    "    dim = len(x[0])\n",
    "    #fwd_transform(x)\n",
    "    mutation = [x[1][i]-x[2][i] for i in range(dim)]\n",
    "    mutation = [mutation[i]*F for i in range(dim)]\n",
    "    mutation = [x[0][i]+ mutation[i] for i in range(dim)]\n",
    "    mutation = [int(mutation[i]) for i in range(dim)]\n",
    "    #bwd_transform(mutation)\n",
    "    return mutation\n",
    "\n",
    "def fwd_transform(x):\n",
    "    # Transformation based on Equation 5 from https://arxiv.org/ftp/arxiv/papers/1405/1405.7362.pdf\n",
    "    for i in range(len(x)):\n",
    "        for j in range(len(x[i])):\n",
    "            x[i][j] = round(-1 + ((x[i][j] * 500) /999 ), 4)\n",
    "    return x  \n",
    "\n",
    "def bwd_transform(x):\n",
    "    # Transformation based on Equation 6 from https://arxiv.org/ftp/arxiv/papers/1405/1405.7362.pdf\n",
    "    for i in range(len(x)):\n",
    "        x[i] = round((1+x[i])*999 / 500, 4)\n",
    "    return x\n",
    "\n",
    "# define boundary check operation\n",
    "def clip_bounds_01(x, bounds): # FAVORS 0 and BOUND\n",
    "    clipped = [np.clip(x[i], 0 , bounds[i]) for i in range(len(bounds))]\n",
    "            \n",
    "    return clipped\n",
    "\n",
    "def clip_bounds02(x, bounds): # BETTER BUT FAVORS LOWER NUMBERS\n",
    "    for i in range(len(bounds)):\n",
    "        if x[i] > bounds[i]: \n",
    "            discrepancy = x[i] - bounds[i]\n",
    "            while discrepancy > bounds[i]:\n",
    "                discrepancy = discrepancy - bounds[i] \n",
    "            x[i]=discrepancy\n",
    "                \n",
    "        elif x[i] < 0:\n",
    "            discrepancy = x[i]\n",
    "            while discrepancy < 0:\n",
    "                discrepancy = discrepancy + bounds[i]\n",
    "            x[i]=discrepancy\n",
    "    return x\n",
    "\n",
    "def clip_bounds(x, bounds): \n",
    "    for i in range(len(bounds)):\n",
    "        if x[i] > bounds[i] or x[i] < 0: \n",
    "            x[i] = random.randint(0,bounds[i])\n",
    "            \n",
    "    return x\n",
    "\n",
    "# define crossover operation creating solution vector by binomial crossover\n",
    "def crossover(x, y, cr):\n",
    "    dim = len(x); p = np.random.uniform(size=dim)    \n",
    "    return [x[i] if p[i] < cr else y[i] for i in range(dim)]\n",
    "\n",
    "def unique(x,y):\n",
    "    if x in y: \n",
    "        return True\n",
    "    else: return False\n",
    "\n",
    "def convert(x, key):\n",
    "    return [key[i][x[i]] for i in range(len(x))] \n",
    "        \n",
    "\n",
    "\n",
    "# Confirm whether transformation method can generate a uniform distribution\n",
    "print(\"\\nUsing Differential Evolution for Hyperparameter Optimization\")\n",
    "\n",
    "#np.random.seed(16)\n",
    "np.set_printoptions(precision=5, suppress=True)\n",
    "\n",
    "new_sol=[]\n",
    "\n",
    "# number of parameters we are otimizing (Evluations = population_size + popultion_size*max_gen\n",
    "pop_size = 10\n",
    "\n",
    "# max iterations\n",
    "max_gen = 50000\n",
    "\n",
    "# mutation: How far from xi the offspring will be generated\n",
    "F = 0.5\n",
    "\n",
    "# crossover: how many parameters are changed\n",
    "cr = 0.9 \n",
    "\n",
    "drop = .5\n",
    "\n",
    "# For MobileNet it would be Dropout, Alpha, Depth, Optimizer, LR\n",
    "y_key =[[.1,.2,.3,.4,.5,.6,.7,.8,.9],\n",
    "     [.5, .75, 1],\n",
    "     [1, 2, 3],\n",
    "     ['Adam','RMSProp'],\n",
    "     [.005,.001,.0005,.0001,.00005,.00001,.000005,.000001]]\n",
    "\n",
    "dim = len(y_key)\n",
    "y = [np.arange(len(y_key[x])) for x in range(dim)] #these are indices\n",
    "bounds = [len(y[x])-1 for x in range(len(y))]\n",
    "\n",
    "print(\"\\nSetting pop_size = %d, F = %0.1f, cr = %0.2f, max_gen = %d \" % (pop_size, F, cr, max_gen))\n",
    "\n",
    "# Generate n solutions\n",
    "population = [random.choices(y[x], k=pop_size) for x in range(dim)] \n",
    "population = list(map(list, zip(*population)))\n",
    "\n",
    "print(bounds)\n",
    "\n",
    "\n",
    "# main processing loop\n",
    "for g in range(max_gen):\n",
    "    for i in range(pop_size):  # For each solution in population\n",
    "\n",
    "        # Choose 3 solutions\n",
    "        indices = np.arange(pop_size)  # [0, 1, 2, . . ]\n",
    "        np.random.shuffle(indices)\n",
    "        abc = indices[:3].tolist()\n",
    "\n",
    "        # If current solution is in set, replace\n",
    "        if i in abc: abc[abc.index(i)]= indices[3]\n",
    "\n",
    "        # Selected population of 3 solutions\n",
    "        abc = [population[abc[x]] for x in range(3)] \n",
    "\n",
    "        # Mutate + Fix the solution\n",
    "        solution = clip_bounds02(mutate(abc, F), bounds)\n",
    "\n",
    "        # Crossover\n",
    "        solution = crossover(solution, population[i], cr)\n",
    "\n",
    "        if solution not in new_sol: new_sol.append(solution)\n"
   ]
  },
  {
   "cell_type": "code",
   "execution_count": 35,
   "id": "furnished-piece",
   "metadata": {},
   "outputs": [
    {
     "name": "stdout",
     "output_type": "stream",
     "text": [
      "Min: 0 Max: 8\n",
      "Min: 0 Max: 2\n",
      "Min: 0 Max: 2\n",
      "Min: 0 Max: 1\n",
      "Min: 0 Max: 7\n"
     ]
    },
    {
     "data": {
      "image/png": "[encoded data removed]",
      "text/plain": [
       "<Figure size 360x360 with 1 Axes>"
      ]
     },
     "metadata": {
      "needs_background": "light"
     },
     "output_type": "display_data"
    },
    {
     "data": {
      "image/png": "[encoded data removed]",
      "text/plain": [
       "<Figure size 360x360 with 1 Axes>"
      ]
     },
     "metadata": {
      "needs_background": "light"
     },
     "output_type": "display_data"
    },
    {
     "data": {
      "image/png": "[encoded data removed]",
      "text/plain": [
       "<Figure size 360x360 with 1 Axes>"
      ]
     },
     "metadata": {
      "needs_background": "light"
     },
     "output_type": "display_data"
    },
    {
     "data": {
      "image/png": "[encoded data removed]",
      "text/plain": [
       "<Figure size 360x360 with 1 Axes>"
      ]
     },
     "metadata": {
      "needs_background": "light"
     },
     "output_type": "display_data"
    },
    {
     "data": {
      "image/png": "[encoded data removed]",
      "text/plain": [
       "<Figure size 360x360 with 1 Axes>"
      ]
     },
     "metadata": {
      "needs_background": "light"
     },
     "output_type": "display_data"
    }
   ],
   "source": [
    "#for i in range(len(solution)):\n",
    "\n",
    "for i in range(len(solution)):\n",
    "    col = [row[i] for row in new_sol]\n",
    "    print(\"Min:\",min(col),\"Max:\", max(col))\n",
    "    sns.displot(col)\n",
    "    \n"
   ]
  },
  {
   "cell_type": "code",
   "execution_count": null,
   "id": "impossible-allergy",
   "metadata": {},
   "outputs": [],
   "source": []
  }
 ],
 "metadata": {
  "kernelspec": {
   "display_name": "Python 3",
   "language": "python",
   "name": "python3"
  },
  "language_info": {
   "codemirror_mode": {
    "name": "ipython",
    "version": 3
   },
   "file_extension": ".py",
   "mimetype": "text/x-python",
   "name": "python",
   "nbconvert_exporter": "python",
   "pygments_lexer": "ipython3",
   "version": "3.8.8"
  }
 },
 "nbformat": 4,
 "nbformat_minor": 5
}
